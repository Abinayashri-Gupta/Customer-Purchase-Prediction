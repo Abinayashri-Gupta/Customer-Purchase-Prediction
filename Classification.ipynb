{
 "cells": [
  {
   "cell_type": "markdown",
   "id": "9e1bd0e8",
   "metadata": {
    "papermill": {
     "duration": 0.00736,
     "end_time": "2024-12-25T20:38:13.476488",
     "exception": false,
     "start_time": "2024-12-25T20:38:13.469128",
     "status": "completed"
    },
    "tags": []
   },
   "source": [
    "# Customer Purchase Behavior Classification"
   ]
  },
  {
   "cell_type": "code",
   "execution_count": 72,
   "id": "5d29d090",
   "metadata": {
    "execution": {
     "iopub.execute_input": "2024-12-25T20:38:13.536114Z",
     "iopub.status.busy": "2024-12-25T20:38:13.535828Z",
     "iopub.status.idle": "2024-12-25T20:38:16.212339Z",
     "shell.execute_reply": "2024-12-25T20:38:16.211085Z"
    },
    "papermill": {
     "duration": 2.685245,
     "end_time": "2024-12-25T20:38:16.214157",
     "exception": false,
     "start_time": "2024-12-25T20:38:13.528912",
     "status": "completed"
    },
    "tags": []
   },
   "outputs": [],
   "source": [
    "import pandas as pd\n",
    "import numpy as np\n",
    "import matplotlib.pyplot as plt\n",
    "import seaborn as sns\n",
    "from sklearn.model_selection import train_test_split, cross_val_score\n",
    "from sklearn.preprocessing import StandardScaler, LabelEncoder\n",
    "from sklearn.metrics import accuracy_score, confusion_matrix, classification_report, precision_score, recall_score, f1_score\n",
    "from sklearn.linear_model import LogisticRegression\n",
    "from sklearn.tree import DecisionTreeClassifier\n",
    "from sklearn.ensemble import RandomForestClassifier\n",
    "from sklearn.svm import SVC\n",
    "from sklearn.naive_bayes import GaussianNB"
   ]
  },
  {
   "cell_type": "code",
   "execution_count": 73,
   "id": "b70bf195",
   "metadata": {
    "execution": {
     "iopub.execute_input": "2024-12-25T20:38:16.239007Z",
     "iopub.status.busy": "2024-12-25T20:38:16.238633Z",
     "iopub.status.idle": "2024-12-25T20:38:16.277140Z",
     "shell.execute_reply": "2024-12-25T20:38:16.276119Z"
    },
    "papermill": {
     "duration": 0.046942,
     "end_time": "2024-12-25T20:38:16.278983",
     "exception": false,
     "start_time": "2024-12-25T20:38:16.232041",
     "status": "completed"
    },
    "tags": []
   },
   "outputs": [
    {
     "data": {
      "text/html": [
       "<div>\n",
       "<style scoped>\n",
       "    .dataframe tbody tr th:only-of-type {\n",
       "        vertical-align: middle;\n",
       "    }\n",
       "\n",
       "    .dataframe tbody tr th {\n",
       "        vertical-align: top;\n",
       "    }\n",
       "\n",
       "    .dataframe thead th {\n",
       "        text-align: right;\n",
       "    }\n",
       "</style>\n",
       "<table border=\"1\" class=\"dataframe\">\n",
       "  <thead>\n",
       "    <tr style=\"text-align: right;\">\n",
       "      <th></th>\n",
       "      <th>Age</th>\n",
       "      <th>Gender</th>\n",
       "      <th>AnnualIncome</th>\n",
       "      <th>NumberOfPurchases</th>\n",
       "      <th>ProductCategory</th>\n",
       "      <th>TimeSpentOnWebsite</th>\n",
       "      <th>LoyaltyProgram</th>\n",
       "      <th>DiscountsAvailed</th>\n",
       "      <th>PurchaseStatus</th>\n",
       "    </tr>\n",
       "  </thead>\n",
       "  <tbody>\n",
       "    <tr>\n",
       "      <th>0</th>\n",
       "      <td>40</td>\n",
       "      <td>1</td>\n",
       "      <td>66120.267939</td>\n",
       "      <td>8</td>\n",
       "      <td>0</td>\n",
       "      <td>30.568601</td>\n",
       "      <td>0</td>\n",
       "      <td>5</td>\n",
       "      <td>1</td>\n",
       "    </tr>\n",
       "    <tr>\n",
       "      <th>1</th>\n",
       "      <td>20</td>\n",
       "      <td>1</td>\n",
       "      <td>23579.773583</td>\n",
       "      <td>4</td>\n",
       "      <td>2</td>\n",
       "      <td>38.240097</td>\n",
       "      <td>0</td>\n",
       "      <td>5</td>\n",
       "      <td>0</td>\n",
       "    </tr>\n",
       "    <tr>\n",
       "      <th>2</th>\n",
       "      <td>27</td>\n",
       "      <td>1</td>\n",
       "      <td>127821.306432</td>\n",
       "      <td>11</td>\n",
       "      <td>2</td>\n",
       "      <td>31.633212</td>\n",
       "      <td>1</td>\n",
       "      <td>0</td>\n",
       "      <td>1</td>\n",
       "    </tr>\n",
       "    <tr>\n",
       "      <th>3</th>\n",
       "      <td>24</td>\n",
       "      <td>1</td>\n",
       "      <td>137798.623120</td>\n",
       "      <td>19</td>\n",
       "      <td>3</td>\n",
       "      <td>46.167059</td>\n",
       "      <td>0</td>\n",
       "      <td>4</td>\n",
       "      <td>1</td>\n",
       "    </tr>\n",
       "    <tr>\n",
       "      <th>4</th>\n",
       "      <td>31</td>\n",
       "      <td>1</td>\n",
       "      <td>99300.964220</td>\n",
       "      <td>19</td>\n",
       "      <td>1</td>\n",
       "      <td>19.823592</td>\n",
       "      <td>0</td>\n",
       "      <td>0</td>\n",
       "      <td>1</td>\n",
       "    </tr>\n",
       "  </tbody>\n",
       "</table>\n",
       "</div>"
      ],
      "text/plain": [
       "   Age  Gender   AnnualIncome  NumberOfPurchases  ProductCategory  \\\n",
       "0   40       1   66120.267939                  8                0   \n",
       "1   20       1   23579.773583                  4                2   \n",
       "2   27       1  127821.306432                 11                2   \n",
       "3   24       1  137798.623120                 19                3   \n",
       "4   31       1   99300.964220                 19                1   \n",
       "\n",
       "   TimeSpentOnWebsite  LoyaltyProgram  DiscountsAvailed  PurchaseStatus  \n",
       "0           30.568601               0                 5               1  \n",
       "1           38.240097               0                 5               0  \n",
       "2           31.633212               1                 0               1  \n",
       "3           46.167059               0                 4               1  \n",
       "4           19.823592               0                 0               1  "
      ]
     },
     "execution_count": 73,
     "metadata": {},
     "output_type": "execute_result"
    }
   ],
   "source": [
    "df = pd.read_csv('customer_purchase_data.csv')\n",
    "df.head()"
   ]
  },
  {
   "cell_type": "code",
   "execution_count": 30,
   "id": "1f1eb82d",
   "metadata": {
    "execution": {
     "iopub.execute_input": "2024-12-25T20:38:16.303983Z",
     "iopub.status.busy": "2024-12-25T20:38:16.303716Z",
     "iopub.status.idle": "2024-12-25T20:38:16.324632Z",
     "shell.execute_reply": "2024-12-25T20:38:16.323603Z"
    },
    "papermill": {
     "duration": 0.029725,
     "end_time": "2024-12-25T20:38:16.326534",
     "exception": false,
     "start_time": "2024-12-25T20:38:16.296809",
     "status": "completed"
    },
    "tags": []
   },
   "outputs": [
    {
     "name": "stdout",
     "output_type": "stream",
     "text": [
      "<class 'pandas.core.frame.DataFrame'>\n",
      "RangeIndex: 1500 entries, 0 to 1499\n",
      "Data columns (total 9 columns):\n",
      " #   Column              Non-Null Count  Dtype  \n",
      "---  ------              --------------  -----  \n",
      " 0   Age                 1500 non-null   int64  \n",
      " 1   Gender              1500 non-null   int64  \n",
      " 2   AnnualIncome        1500 non-null   float64\n",
      " 3   NumberOfPurchases   1500 non-null   int64  \n",
      " 4   ProductCategory     1500 non-null   int64  \n",
      " 5   TimeSpentOnWebsite  1500 non-null   float64\n",
      " 6   LoyaltyProgram      1500 non-null   int64  \n",
      " 7   DiscountsAvailed    1500 non-null   int64  \n",
      " 8   PurchaseStatus      1500 non-null   int64  \n",
      "dtypes: float64(2), int64(7)\n",
      "memory usage: 105.6 KB\n"
     ]
    }
   ],
   "source": [
    "df.info()"
   ]
  },
  {
   "cell_type": "code",
   "execution_count": 31,
   "id": "6d89bf94",
   "metadata": {
    "execution": {
     "iopub.execute_input": "2024-12-25T20:38:16.351646Z",
     "iopub.status.busy": "2024-12-25T20:38:16.351351Z",
     "iopub.status.idle": "2024-12-25T20:38:16.376402Z",
     "shell.execute_reply": "2024-12-25T20:38:16.375594Z"
    },
    "papermill": {
     "duration": 0.0334,
     "end_time": "2024-12-25T20:38:16.377852",
     "exception": false,
     "start_time": "2024-12-25T20:38:16.344452",
     "status": "completed"
    },
    "tags": []
   },
   "outputs": [
    {
     "data": {
      "text/html": [
       "<div>\n",
       "<style scoped>\n",
       "    .dataframe tbody tr th:only-of-type {\n",
       "        vertical-align: middle;\n",
       "    }\n",
       "\n",
       "    .dataframe tbody tr th {\n",
       "        vertical-align: top;\n",
       "    }\n",
       "\n",
       "    .dataframe thead th {\n",
       "        text-align: right;\n",
       "    }\n",
       "</style>\n",
       "<table border=\"1\" class=\"dataframe\">\n",
       "  <thead>\n",
       "    <tr style=\"text-align: right;\">\n",
       "      <th></th>\n",
       "      <th>Age</th>\n",
       "      <th>Gender</th>\n",
       "      <th>AnnualIncome</th>\n",
       "      <th>NumberOfPurchases</th>\n",
       "      <th>ProductCategory</th>\n",
       "      <th>TimeSpentOnWebsite</th>\n",
       "      <th>LoyaltyProgram</th>\n",
       "      <th>DiscountsAvailed</th>\n",
       "      <th>PurchaseStatus</th>\n",
       "    </tr>\n",
       "  </thead>\n",
       "  <tbody>\n",
       "    <tr>\n",
       "      <th>count</th>\n",
       "      <td>1500.000000</td>\n",
       "      <td>1500.000000</td>\n",
       "      <td>1500.000000</td>\n",
       "      <td>1500.000000</td>\n",
       "      <td>1500.000000</td>\n",
       "      <td>1500.000000</td>\n",
       "      <td>1500.000000</td>\n",
       "      <td>1500.000000</td>\n",
       "      <td>1500.00000</td>\n",
       "    </tr>\n",
       "    <tr>\n",
       "      <th>mean</th>\n",
       "      <td>44.298667</td>\n",
       "      <td>0.504667</td>\n",
       "      <td>84249.164338</td>\n",
       "      <td>10.420000</td>\n",
       "      <td>2.012667</td>\n",
       "      <td>30.469040</td>\n",
       "      <td>0.326667</td>\n",
       "      <td>2.555333</td>\n",
       "      <td>0.43200</td>\n",
       "    </tr>\n",
       "    <tr>\n",
       "      <th>std</th>\n",
       "      <td>15.537259</td>\n",
       "      <td>0.500145</td>\n",
       "      <td>37629.493078</td>\n",
       "      <td>5.887391</td>\n",
       "      <td>1.428005</td>\n",
       "      <td>16.984392</td>\n",
       "      <td>0.469151</td>\n",
       "      <td>1.705152</td>\n",
       "      <td>0.49552</td>\n",
       "    </tr>\n",
       "    <tr>\n",
       "      <th>min</th>\n",
       "      <td>18.000000</td>\n",
       "      <td>0.000000</td>\n",
       "      <td>20001.512518</td>\n",
       "      <td>0.000000</td>\n",
       "      <td>0.000000</td>\n",
       "      <td>1.037023</td>\n",
       "      <td>0.000000</td>\n",
       "      <td>0.000000</td>\n",
       "      <td>0.00000</td>\n",
       "    </tr>\n",
       "    <tr>\n",
       "      <th>25%</th>\n",
       "      <td>31.000000</td>\n",
       "      <td>0.000000</td>\n",
       "      <td>53028.979155</td>\n",
       "      <td>5.000000</td>\n",
       "      <td>1.000000</td>\n",
       "      <td>16.156700</td>\n",
       "      <td>0.000000</td>\n",
       "      <td>1.000000</td>\n",
       "      <td>0.00000</td>\n",
       "    </tr>\n",
       "    <tr>\n",
       "      <th>50%</th>\n",
       "      <td>45.000000</td>\n",
       "      <td>1.000000</td>\n",
       "      <td>83699.581476</td>\n",
       "      <td>11.000000</td>\n",
       "      <td>2.000000</td>\n",
       "      <td>30.939516</td>\n",
       "      <td>0.000000</td>\n",
       "      <td>3.000000</td>\n",
       "      <td>0.00000</td>\n",
       "    </tr>\n",
       "    <tr>\n",
       "      <th>75%</th>\n",
       "      <td>57.000000</td>\n",
       "      <td>1.000000</td>\n",
       "      <td>117167.772858</td>\n",
       "      <td>15.000000</td>\n",
       "      <td>3.000000</td>\n",
       "      <td>44.369863</td>\n",
       "      <td>1.000000</td>\n",
       "      <td>4.000000</td>\n",
       "      <td>1.00000</td>\n",
       "    </tr>\n",
       "    <tr>\n",
       "      <th>max</th>\n",
       "      <td>70.000000</td>\n",
       "      <td>1.000000</td>\n",
       "      <td>149785.176481</td>\n",
       "      <td>20.000000</td>\n",
       "      <td>4.000000</td>\n",
       "      <td>59.991105</td>\n",
       "      <td>1.000000</td>\n",
       "      <td>5.000000</td>\n",
       "      <td>1.00000</td>\n",
       "    </tr>\n",
       "  </tbody>\n",
       "</table>\n",
       "</div>"
      ],
      "text/plain": [
       "               Age       Gender   AnnualIncome  NumberOfPurchases  \\\n",
       "count  1500.000000  1500.000000    1500.000000        1500.000000   \n",
       "mean     44.298667     0.504667   84249.164338          10.420000   \n",
       "std      15.537259     0.500145   37629.493078           5.887391   \n",
       "min      18.000000     0.000000   20001.512518           0.000000   \n",
       "25%      31.000000     0.000000   53028.979155           5.000000   \n",
       "50%      45.000000     1.000000   83699.581476          11.000000   \n",
       "75%      57.000000     1.000000  117167.772858          15.000000   \n",
       "max      70.000000     1.000000  149785.176481          20.000000   \n",
       "\n",
       "       ProductCategory  TimeSpentOnWebsite  LoyaltyProgram  DiscountsAvailed  \\\n",
       "count      1500.000000         1500.000000     1500.000000       1500.000000   \n",
       "mean          2.012667           30.469040        0.326667          2.555333   \n",
       "std           1.428005           16.984392        0.469151          1.705152   \n",
       "min           0.000000            1.037023        0.000000          0.000000   \n",
       "25%           1.000000           16.156700        0.000000          1.000000   \n",
       "50%           2.000000           30.939516        0.000000          3.000000   \n",
       "75%           3.000000           44.369863        1.000000          4.000000   \n",
       "max           4.000000           59.991105        1.000000          5.000000   \n",
       "\n",
       "       PurchaseStatus  \n",
       "count      1500.00000  \n",
       "mean          0.43200  \n",
       "std           0.49552  \n",
       "min           0.00000  \n",
       "25%           0.00000  \n",
       "50%           0.00000  \n",
       "75%           1.00000  \n",
       "max           1.00000  "
      ]
     },
     "execution_count": 31,
     "metadata": {},
     "output_type": "execute_result"
    }
   ],
   "source": [
    "df.describe()"
   ]
  },
  {
   "cell_type": "code",
   "execution_count": 32,
   "id": "26862a93",
   "metadata": {
    "execution": {
     "iopub.execute_input": "2024-12-25T20:38:16.404642Z",
     "iopub.status.busy": "2024-12-25T20:38:16.403840Z",
     "iopub.status.idle": "2024-12-25T20:38:16.408311Z",
     "shell.execute_reply": "2024-12-25T20:38:16.407360Z"
    },
    "papermill": {
     "duration": 0.013183,
     "end_time": "2024-12-25T20:38:16.409846",
     "exception": false,
     "start_time": "2024-12-25T20:38:16.396663",
     "status": "completed"
    },
    "tags": []
   },
   "outputs": [
    {
     "name": "stdout",
     "output_type": "stream",
     "text": [
      "Dataset Shape: (1500, 9)\n"
     ]
    }
   ],
   "source": [
    "print(f\"Dataset Shape: {df.shape}\")"
   ]
  },
  {
   "cell_type": "code",
   "execution_count": 33,
   "id": "0c9c7404",
   "metadata": {
    "execution": {
     "iopub.execute_input": "2024-12-25T20:38:16.436964Z",
     "iopub.status.busy": "2024-12-25T20:38:16.436703Z",
     "iopub.status.idle": "2024-12-25T20:38:16.616354Z",
     "shell.execute_reply": "2024-12-25T20:38:16.615345Z"
    },
    "papermill": {
     "duration": 0.188911,
     "end_time": "2024-12-25T20:38:16.618186",
     "exception": false,
     "start_time": "2024-12-25T20:38:16.429275",
     "status": "completed"
    },
    "tags": []
   },
   "outputs": [
    {
     "data": {
      "image/png": "[encoded data removed]",
      "text/plain": [
       "<Figure size 600x400 with 1 Axes>"
      ]
     },
     "metadata": {},
     "output_type": "display_data"
    }
   ],
   "source": [
    "plt.figure(figsize=(6,4))\n",
    "sns.countplot(x='PurchaseStatus', data=df)\n",
    "plt.title('Distribution of PurchaseStatus')\n",
    "plt.show()"
   ]
  },
  {
   "cell_type": "markdown",
   "id": "bb202791",
   "metadata": {
    "papermill": {
     "duration": 0.009583,
     "end_time": "2024-12-25T20:38:18.326445",
     "exception": false,
     "start_time": "2024-12-25T20:38:18.316862",
     "status": "completed"
    },
    "tags": []
   },
   "source": [
    "# Data Pre-processing"
   ]
  },
  {
   "cell_type": "code",
   "execution_count": 34,
   "id": "82a3e831",
   "metadata": {
    "execution": {
     "iopub.execute_input": "2024-12-25T20:38:18.366717Z",
     "iopub.status.busy": "2024-12-25T20:38:18.365946Z",
     "iopub.status.idle": "2024-12-25T20:38:18.371363Z",
     "shell.execute_reply": "2024-12-25T20:38:18.370575Z"
    },
    "papermill": {
     "duration": 0.017364,
     "end_time": "2024-12-25T20:38:18.372896",
     "exception": false,
     "start_time": "2024-12-25T20:38:18.355532",
     "status": "completed"
    },
    "tags": []
   },
   "outputs": [
    {
     "name": "stdout",
     "output_type": "stream",
     "text": [
      "Age                   0\n",
      "Gender                0\n",
      "AnnualIncome          0\n",
      "NumberOfPurchases     0\n",
      "ProductCategory       0\n",
      "TimeSpentOnWebsite    0\n",
      "LoyaltyProgram        0\n",
      "DiscountsAvailed      0\n",
      "PurchaseStatus        0\n",
      "dtype: int64\n"
     ]
    }
   ],
   "source": [
    "print(df.isnull().sum())"
   ]
  },
  {
   "cell_type": "code",
   "execution_count": 35,
   "id": "4fca2a0d",
   "metadata": {
    "execution": {
     "iopub.execute_input": "2024-12-25T20:38:18.412993Z",
     "iopub.status.busy": "2024-12-25T20:38:18.412707Z",
     "iopub.status.idle": "2024-12-25T20:38:18.417359Z",
     "shell.execute_reply": "2024-12-25T20:38:18.416621Z"
    },
    "papermill": {
     "duration": 0.017214,
     "end_time": "2024-12-25T20:38:18.419078",
     "exception": false,
     "start_time": "2024-12-25T20:38:18.401864",
     "status": "completed"
    },
    "tags": []
   },
   "outputs": [],
   "source": [
    "X = df.drop(['PurchaseStatus','AnnualIncome'], axis=1)\n",
    "y = df['PurchaseStatus']"
   ]
  },
  {
   "cell_type": "code",
   "execution_count": 36,
   "id": "6457fa42",
   "metadata": {
    "execution": {
     "iopub.execute_input": "2024-12-25T20:38:18.459858Z",
     "iopub.status.busy": "2024-12-25T20:38:18.459556Z",
     "iopub.status.idle": "2024-12-25T20:38:18.467506Z",
     "shell.execute_reply": "2024-12-25T20:38:18.466612Z"
    },
    "papermill": {
     "duration": 0.020788,
     "end_time": "2024-12-25T20:38:18.469472",
     "exception": false,
     "start_time": "2024-12-25T20:38:18.448684",
     "status": "completed"
    },
    "tags": []
   },
   "outputs": [],
   "source": [
    "scaler = StandardScaler()\n",
    "X_scaled = scaler.fit_transform(X)"
   ]
  },
  {
   "cell_type": "code",
   "execution_count": 37,
   "id": "4ef96b27",
   "metadata": {
    "execution": {
     "iopub.execute_input": "2024-12-25T20:38:18.509274Z",
     "iopub.status.busy": "2024-12-25T20:38:18.508945Z",
     "iopub.status.idle": "2024-12-25T20:38:18.516615Z",
     "shell.execute_reply": "2024-12-25T20:38:18.515252Z"
    },
    "papermill": {
     "duration": 0.020583,
     "end_time": "2024-12-25T20:38:18.518758",
     "exception": false,
     "start_time": "2024-12-25T20:38:18.498175",
     "status": "completed"
    },
    "tags": []
   },
   "outputs": [],
   "source": [
    "x_train, x_test, y_train, y_test = train_test_split(X_scaled, y, test_size=0.2, random_state=42)"
   ]
  },
  {
   "cell_type": "markdown",
   "id": "822ae0df",
   "metadata": {
    "papermill": {
     "duration": 0.010321,
     "end_time": "2024-12-25T20:38:18.539154",
     "exception": false,
     "start_time": "2024-12-25T20:38:18.528833",
     "status": "completed"
    },
    "tags": []
   },
   "source": [
    "# Models"
   ]
  },
  {
   "cell_type": "markdown",
   "id": "ed8db223",
   "metadata": {
    "papermill": {
     "duration": 0.009659,
     "end_time": "2024-12-25T20:38:18.558540",
     "exception": false,
     "start_time": "2024-12-25T20:38:18.548881",
     "status": "completed"
    },
    "tags": []
   },
   "source": [
    "**Decission Tree Classifier**"
   ]
  },
  {
   "cell_type": "code",
   "execution_count": 54,
   "id": "01c9aaea",
   "metadata": {
    "execution": {
     "iopub.execute_input": "2024-12-25T20:38:18.580000Z",
     "iopub.status.busy": "2024-12-25T20:38:18.579743Z",
     "iopub.status.idle": "2024-12-25T20:38:18.590173Z",
     "shell.execute_reply": "2024-12-25T20:38:18.589423Z"
    },
    "papermill": {
     "duration": 0.023039,
     "end_time": "2024-12-25T20:38:18.591765",
     "exception": false,
     "start_time": "2024-12-25T20:38:18.568726",
     "status": "completed"
    },
    "tags": []
   },
   "outputs": [],
   "source": [
    "dt_model = DecisionTreeClassifier(random_state=42)\n",
    "dt_model.fit(x_train, y_train)\n",
    "y_pred_dt = dt_model.predict(x_test)"
   ]
  },
  {
   "cell_type": "code",
   "execution_count": 55,
   "id": "20eab18f",
   "metadata": {
    "execution": {
     "iopub.execute_input": "2024-12-25T20:38:18.613378Z",
     "iopub.status.busy": "2024-12-25T20:38:18.612525Z",
     "iopub.status.idle": "2024-12-25T20:38:18.623822Z",
     "shell.execute_reply": "2024-12-25T20:38:18.623107Z"
    },
    "papermill": {
     "duration": 0.02398,
     "end_time": "2024-12-25T20:38:18.625681",
     "exception": false,
     "start_time": "2024-12-25T20:38:18.601701",
     "status": "completed"
    },
    "tags": []
   },
   "outputs": [],
   "source": [
    "accuracy_dt = accuracy_score(y_test, y_pred_dt)\n",
    "precision_dt = precision_score(y_test, y_pred_dt)\n",
    "recall_dt = recall_score(y_test, y_pred_dt)\n",
    "f1_dt = f1_score(y_test, y_pred_dt)\n",
    "cm_dt = confusion_matrix(y_test, y_pred_dt)"
   ]
  },
  {
   "cell_type": "code",
   "execution_count": 56,
   "id": "3ac37712",
   "metadata": {
    "execution": {
     "iopub.execute_input": "2024-12-25T20:38:18.651366Z",
     "iopub.status.busy": "2024-12-25T20:38:18.650991Z",
     "iopub.status.idle": "2024-12-25T20:38:18.846202Z",
     "shell.execute_reply": "2024-12-25T20:38:18.845347Z"
    },
    "papermill": {
     "duration": 0.211383,
     "end_time": "2024-12-25T20:38:18.848248",
     "exception": false,
     "start_time": "2024-12-25T20:38:18.636865",
     "status": "completed"
    },
    "tags": []
   },
   "outputs": [
    {
     "name": "stdout",
     "output_type": "stream",
     "text": [
      "Decision Tree Classifier:\n",
      " Accuracy: 0.8266666666666667\n",
      " Precision: 0.8220338983050848\n",
      " Recall: 0.7578125\n",
      " F1 Score: 0.7886178861788617\n"
     ]
    }
   ],
   "source": [
    "print(f'Decision Tree Classifier:\\n Accuracy: {accuracy_dt}\\n Precision: {precision_dt}\\n Recall: {recall_dt}\\n F1 Score: {f1_dt}')\n"
   ]
  },
  {
   "cell_type": "markdown",
   "id": "6d52fefa",
   "metadata": {
    "papermill": {
     "duration": 0.01297,
     "end_time": "2024-12-25T20:38:24.688097",
     "exception": false,
     "start_time": "2024-12-25T20:38:24.675127",
     "status": "completed"
    },
    "tags": []
   },
   "source": [
    "**Logistic Regression**"
   ]
  },
  {
   "cell_type": "code",
   "execution_count": 57,
   "id": "d945180e",
   "metadata": {
    "execution": {
     "iopub.execute_input": "2024-12-25T20:38:24.713917Z",
     "iopub.status.busy": "2024-12-25T20:38:24.713609Z",
     "iopub.status.idle": "2024-12-25T20:38:24.726956Z",
     "shell.execute_reply": "2024-12-25T20:38:24.726210Z"
    },
    "papermill": {
     "duration": 0.028846,
     "end_time": "2024-12-25T20:38:24.729126",
     "exception": false,
     "start_time": "2024-12-25T20:38:24.700280",
     "status": "completed"
    },
    "tags": []
   },
   "outputs": [],
   "source": [
    "lr_model = LogisticRegression(random_state=42)\n",
    "lr_model.fit(x_train, y_train)\n",
    "y_pred_lr = lr_model.predict(x_test)"
   ]
  },
  {
   "cell_type": "code",
   "execution_count": 58,
   "id": "7e260dd1",
   "metadata": {
    "execution": {
     "iopub.execute_input": "2024-12-25T20:38:24.770049Z",
     "iopub.status.busy": "2024-12-25T20:38:24.769755Z",
     "iopub.status.idle": "2024-12-25T20:38:24.780890Z",
     "shell.execute_reply": "2024-12-25T20:38:24.780208Z"
    },
    "papermill": {
     "duration": 0.03343,
     "end_time": "2024-12-25T20:38:24.783155",
     "exception": false,
     "start_time": "2024-12-25T20:38:24.749725",
     "status": "completed"
    },
    "tags": []
   },
   "outputs": [],
   "source": [
    "accuracy_lr = accuracy_score(y_test, y_pred_lr)\n",
    "precision_lr = precision_score(y_test, y_pred_lr)\n",
    "recall_lr = recall_score(y_test, y_pred_lr)\n",
    "f1_lr = f1_score(y_test, y_pred_lr)\n",
    "cm_lr = confusion_matrix(y_test, y_pred_lr)"
   ]
  },
  {
   "cell_type": "code",
   "execution_count": 59,
   "id": "8c339b6e",
   "metadata": {
    "execution": {
     "iopub.execute_input": "2024-12-25T20:38:24.822387Z",
     "iopub.status.busy": "2024-12-25T20:38:24.822096Z",
     "iopub.status.idle": "2024-12-25T20:38:24.997045Z",
     "shell.execute_reply": "2024-12-25T20:38:24.995778Z"
    },
    "papermill": {
     "duration": 0.196816,
     "end_time": "2024-12-25T20:38:24.999028",
     "exception": false,
     "start_time": "2024-12-25T20:38:24.802212",
     "status": "completed"
    },
    "tags": []
   },
   "outputs": [
    {
     "name": "stdout",
     "output_type": "stream",
     "text": [
      "Logistic Regression:\n",
      " Accuracy: 0.7866666666666666\n",
      " Precision: 0.8018867924528302\n",
      " Recall: 0.6640625\n",
      " F1 Score: 0.7264957264957265\n"
     ]
    }
   ],
   "source": [
    "print(f'Logistic Regression:\\n Accuracy: {accuracy_lr}\\n Precision: {precision_lr}\\n Recall: {recall_lr}\\n F1 Score: {f1_lr}')\n"
   ]
  },
  {
   "cell_type": "markdown",
   "id": "32b7a9c9",
   "metadata": {
    "papermill": {
     "duration": 0.012639,
     "end_time": "2024-12-25T20:38:25.024347",
     "exception": false,
     "start_time": "2024-12-25T20:38:25.011708",
     "status": "completed"
    },
    "tags": []
   },
   "source": [
    "**Suppor Vector Machine**"
   ]
  },
  {
   "cell_type": "code",
   "execution_count": 60,
   "id": "dba44c1c",
   "metadata": {
    "execution": {
     "iopub.execute_input": "2024-12-25T20:38:25.050905Z",
     "iopub.status.busy": "2024-12-25T20:38:25.050635Z",
     "iopub.status.idle": "2024-12-25T20:38:25.085555Z",
     "shell.execute_reply": "2024-12-25T20:38:25.084214Z"
    },
    "papermill": {
     "duration": 0.050561,
     "end_time": "2024-12-25T20:38:25.087530",
     "exception": false,
     "start_time": "2024-12-25T20:38:25.036969",
     "status": "completed"
    },
    "tags": []
   },
   "outputs": [],
   "source": [
    "svm_model = SVC(random_state=42)\n",
    "svm_model.fit(x_train, y_train)\n",
    "y_pred_svm = svm_model.predict(x_test)"
   ]
  },
  {
   "cell_type": "code",
   "execution_count": 61,
   "id": "dc6674e5",
   "metadata": {
    "execution": {
     "iopub.execute_input": "2024-12-25T20:38:25.113909Z",
     "iopub.status.busy": "2024-12-25T20:38:25.113625Z",
     "iopub.status.idle": "2024-12-25T20:38:25.125383Z",
     "shell.execute_reply": "2024-12-25T20:38:25.123971Z"
    },
    "papermill": {
     "duration": 0.027274,
     "end_time": "2024-12-25T20:38:25.127180",
     "exception": false,
     "start_time": "2024-12-25T20:38:25.099906",
     "status": "completed"
    },
    "tags": []
   },
   "outputs": [],
   "source": [
    "accuracy_svm = accuracy_score(y_test, y_pred_svm)\n",
    "precision_svm = precision_score(y_test, y_pred_svm)\n",
    "recall_svm = recall_score(y_test, y_pred_svm)\n",
    "f1_svm = f1_score(y_test, y_pred_svm)\n",
    "cm_svm = confusion_matrix(y_test, y_pred_svm)"
   ]
  },
  {
   "cell_type": "code",
   "execution_count": 62,
   "id": "d831a1eb",
   "metadata": {
    "execution": {
     "iopub.execute_input": "2024-12-25T20:38:25.153231Z",
     "iopub.status.busy": "2024-12-25T20:38:25.152929Z",
     "iopub.status.idle": "2024-12-25T20:38:25.302369Z",
     "shell.execute_reply": "2024-12-25T20:38:25.301622Z"
    },
    "papermill": {
     "duration": 0.164233,
     "end_time": "2024-12-25T20:38:25.303824",
     "exception": false,
     "start_time": "2024-12-25T20:38:25.139591",
     "status": "completed"
    },
    "tags": []
   },
   "outputs": [
    {
     "name": "stdout",
     "output_type": "stream",
     "text": [
      "Support Vector Machine:\n",
      " Accuracy: 0.82\n",
      " Precision: 0.8363636363636363\n",
      " Recall: 0.71875\n",
      " F1 Score: 0.7731092436974789\n"
     ]
    }
   ],
   "source": [
    "print(f'Support Vector Machine:\\n Accuracy: {accuracy_svm}\\n Precision: {precision_svm}\\n Recall: {recall_svm}\\n F1 Score: {f1_svm}')\n"
   ]
  },
  {
   "cell_type": "markdown",
   "id": "55a1f658",
   "metadata": {
    "papermill": {
     "duration": 0.012529,
     "end_time": "2024-12-25T20:38:25.329400",
     "exception": false,
     "start_time": "2024-12-25T20:38:25.316871",
     "status": "completed"
    },
    "tags": []
   },
   "source": [
    "**Naive Bayes**"
   ]
  },
  {
   "cell_type": "code",
   "execution_count": 63,
   "id": "863fa159",
   "metadata": {
    "execution": {
     "iopub.execute_input": "2024-12-25T20:38:25.356413Z",
     "iopub.status.busy": "2024-12-25T20:38:25.356124Z",
     "iopub.status.idle": "2024-12-25T20:38:25.362183Z",
     "shell.execute_reply": "2024-12-25T20:38:25.361568Z"
    },
    "papermill": {
     "duration": 0.021599,
     "end_time": "2024-12-25T20:38:25.363706",
     "exception": false,
     "start_time": "2024-12-25T20:38:25.342107",
     "status": "completed"
    },
    "tags": []
   },
   "outputs": [],
   "source": [
    "nb_model = GaussianNB()\n",
    "nb_model.fit(x_train, y_train)\n",
    "y_pred_nb = nb_model.predict(x_test)"
   ]
  },
  {
   "cell_type": "code",
   "execution_count": 64,
   "id": "b1e89201",
   "metadata": {
    "execution": {
     "iopub.execute_input": "2024-12-25T20:38:25.391048Z",
     "iopub.status.busy": "2024-12-25T20:38:25.390784Z",
     "iopub.status.idle": "2024-12-25T20:38:25.402965Z",
     "shell.execute_reply": "2024-12-25T20:38:25.402195Z"
    },
    "papermill": {
     "duration": 0.027805,
     "end_time": "2024-12-25T20:38:25.404519",
     "exception": false,
     "start_time": "2024-12-25T20:38:25.376714",
     "status": "completed"
    },
    "tags": []
   },
   "outputs": [],
   "source": [
    "accuracy_nb = accuracy_score(y_test, y_pred_nb)\n",
    "precision_nb = precision_score(y_test, y_pred_nb)\n",
    "recall_nb = recall_score(y_test, y_pred_nb)\n",
    "f1_nb = f1_score(y_test, y_pred_nb)\n",
    "cm_nb = confusion_matrix(y_test, y_pred_nb)"
   ]
  },
  {
   "cell_type": "code",
   "execution_count": 65,
   "id": "8ff1fa60",
   "metadata": {
    "execution": {
     "iopub.execute_input": "2024-12-25T20:38:25.431766Z",
     "iopub.status.busy": "2024-12-25T20:38:25.431461Z",
     "iopub.status.idle": "2024-12-25T20:38:25.611563Z",
     "shell.execute_reply": "2024-12-25T20:38:25.610765Z"
    },
    "papermill": {
     "duration": 0.195272,
     "end_time": "2024-12-25T20:38:25.612960",
     "exception": false,
     "start_time": "2024-12-25T20:38:25.417688",
     "status": "completed"
    },
    "tags": []
   },
   "outputs": [
    {
     "name": "stdout",
     "output_type": "stream",
     "text": [
      "Naive Bayes:\n",
      " Accuracy: 0.7966666666666666\n",
      " Precision: 0.819047619047619\n",
      " Recall: 0.671875\n",
      " F1 Score: 0.7381974248927038\n"
     ]
    }
   ],
   "source": [
    "print(f'Naive Bayes:\\n Accuracy: {accuracy_nb}\\n Precision: {precision_nb}\\n Recall: {recall_nb}\\n F1 Score: {f1_nb}')\n"
   ]
  },
  {
   "cell_type": "markdown",
   "id": "93fcc989",
   "metadata": {
    "papermill": {
     "duration": 0.012894,
     "end_time": "2024-12-25T20:38:25.638617",
     "exception": false,
     "start_time": "2024-12-25T20:38:25.625723",
     "status": "completed"
    },
    "tags": []
   },
   "source": [
    "**Random Forest**"
   ]
  },
  {
   "cell_type": "code",
   "execution_count": 66,
   "id": "f746fd0b",
   "metadata": {
    "execution": {
     "iopub.execute_input": "2024-12-25T20:38:25.666191Z",
     "iopub.status.busy": "2024-12-25T20:38:25.665900Z",
     "iopub.status.idle": "2024-12-25T20:38:25.847321Z",
     "shell.execute_reply": "2024-12-25T20:38:25.846519Z"
    },
    "papermill": {
     "duration": 0.197681,
     "end_time": "2024-12-25T20:38:25.849439",
     "exception": false,
     "start_time": "2024-12-25T20:38:25.651758",
     "status": "completed"
    },
    "tags": []
   },
   "outputs": [],
   "source": [
    "rf_model = RandomForestClassifier(random_state=42)\n",
    "rf_model.fit(x_train, y_train)\n",
    "y_pred_rf = rf_model.predict(x_test)"
   ]
  },
  {
   "cell_type": "code",
   "execution_count": 67,
   "id": "51f78376",
   "metadata": {
    "execution": {
     "iopub.execute_input": "2024-12-25T20:38:25.876277Z",
     "iopub.status.busy": "2024-12-25T20:38:25.875972Z",
     "iopub.status.idle": "2024-12-25T20:38:25.888469Z",
     "shell.execute_reply": "2024-12-25T20:38:25.887512Z"
    },
    "papermill": {
     "duration": 0.028093,
     "end_time": "2024-12-25T20:38:25.890376",
     "exception": false,
     "start_time": "2024-12-25T20:38:25.862283",
     "status": "completed"
    },
    "tags": []
   },
   "outputs": [],
   "source": [
    "accuracy_rf = accuracy_score(y_test, y_pred_rf)\n",
    "precision_rf = precision_score(y_test, y_pred_rf)\n",
    "recall_rf = recall_score(y_test, y_pred_rf)\n",
    "f1_rf = f1_score(y_test, y_pred_rf)\n",
    "cm_rf = confusion_matrix(y_test, y_pred_rf)"
   ]
  },
  {
   "cell_type": "code",
   "execution_count": 69,
   "id": "5217d389",
   "metadata": {
    "execution": {
     "iopub.execute_input": "2024-12-25T20:38:25.918955Z",
     "iopub.status.busy": "2024-12-25T20:38:25.918675Z",
     "iopub.status.idle": "2024-12-25T20:38:26.091590Z",
     "shell.execute_reply": "2024-12-25T20:38:26.090853Z"
    },
    "papermill": {
     "duration": 0.189573,
     "end_time": "2024-12-25T20:38:26.092894",
     "exception": false,
     "start_time": "2024-12-25T20:38:25.903321",
     "status": "completed"
    },
    "tags": []
   },
   "outputs": [
    {
     "name": "stdout",
     "output_type": "stream",
     "text": [
      "Random Forest:\n",
      " Accuracy: 0.8866666666666667\n",
      " Precision: 0.8790322580645161\n",
      " Recall: 0.8515625\n",
      " F1 Score: 0.8650793650793651\n"
     ]
    },
    {
     "data": {
      "image/png": "[encoded data removed]",
      "text/plain": [
       "<Figure size 640x480 with 2 Axes>"
      ]
     },
     "metadata": {},
     "output_type": "display_data"
    }
   ],
   "source": [
    "print(f'Random Forest:\\n Accuracy: {accuracy_rf}\\n Precision: {precision_rf}\\n Recall: {recall_rf}\\n F1 Score: {f1_rf}')\n",
    "sns.heatmap(cm_rf, annot=True, fmt='d', cmap='Blues')\n",
    "plt.title('Random Forest Confusion Matrix')\n",
    "plt.show()"
   ]
  },
  {
   "cell_type": "code",
   "execution_count": null,
   "id": "c5e3b3f8",
   "metadata": {},
   "outputs": [],
   "source": []
  }
 ],
 "metadata": {
  "kaggle": {
   "accelerator": "none",
   "dataSources": [
    {
     "datasetId": 5236181,
     "sourceId": 8725150,
     "sourceType": "datasetVersion"
    }
   ],
   "dockerImageVersionId": 30732,
   "isGpuEnabled": false,
   "isInternetEnabled": true,
   "language": "python",
   "sourceType": "notebook"
  },
  "kernelspec": {
   "display_name": "Python 3 (ipykernel)",
   "language": "python",
   "name": "python3"
  },
  "language_info": {
   "codemirror_mode": {
    "name": "ipython",
    "version": 3
   },
   "file_extension": ".py",
   "mimetype": "text/x-python",
   "name": "python",
   "nbconvert_exporter": "python",
   "pygments_lexer": "ipython3",
   "version": "3.10.9"
  },
  "papermill": {
   "default_parameters": {},
   "duration": 16.000668,
   "end_time": "2024-12-25T20:38:26.807562",
   "environment_variables": {},
   "exception": null,
   "input_path": "__notebook__.ipynb",
   "output_path": "__notebook__.ipynb",
   "parameters": {},
   "start_time": "2024-12-25T20:38:10.806894",
   "version": "2.5.0"
  }
 },
 "nbformat": 4,
 "nbformat_minor": 5
}
